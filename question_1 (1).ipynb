{
 "cells": [
  {
   "cell_type": "code",
   "execution_count": 1,
   "metadata": {},
   "outputs": [
    {
     "name": "stdout",
     "output_type": "stream",
     "text": [
      "                                               quote             author  \\\n",
      "0  “The world as we have created it is a process ...    Albert Einstein   \n",
      "1  “It is our choices, Harry, that show what we t...       J.K. Rowling   \n",
      "2  “There are only two ways to live your life. On...    Albert Einstein   \n",
      "3  “The person, be it gentleman or lady, who has ...        Jane Austen   \n",
      "4  “Imperfection is beauty, madness is genius and...     Marilyn Monroe   \n",
      "5  “Try not to become a man of success. Rather be...    Albert Einstein   \n",
      "6  “It is better to be hated for what you are tha...         André Gide   \n",
      "7  “I have not failed. I've just found 10,000 way...   Thomas A. Edison   \n",
      "8  “A woman is like a tea bag; you never know how...  Eleanor Roosevelt   \n",
      "9  “A day without sunshine is like, you know, nig...       Steve Martin   \n",
      "\n",
      "                                             tags  \n",
      "0        [change, deep-thoughts, thinking, world]  \n",
      "1                            [abilities, choices]  \n",
      "2  [inspirational, life, live, miracle, miracles]  \n",
      "3              [aliteracy, books, classic, humor]  \n",
      "4                    [be-yourself, inspirational]  \n",
      "5                     [adulthood, success, value]  \n",
      "6                                    [life, love]  \n",
      "7   [edison, failure, inspirational, paraphrased]  \n",
      "8               [misattributed-eleanor-roosevelt]  \n",
      "9                        [humor, obvious, simile]  \n"
     ]
    }
   ],
   "source": [
    "#import all required libraries\n",
    "import requests\n",
    "from bs4 import BeautifulSoup\n",
    "import time\n",
    "import pandas as pd\n",
    "import numpy as np\n",
    "\n",
    "#creating necessary variables for eventual for loop\n",
    "result = requests.get('http://quotes.toscrape.com/')\n",
    "page = result.text\n",
    "soup = BeautifulSoup(page, 'html.parser')\n",
    "\n",
    "#creating for loop to compile quote, author, and tags together\n",
    "i= []\n",
    "for quote in soup.find_all('div', {'class':'quote'}):\n",
    "    d = {}\n",
    "    d['quote'] = quote.find('span', {'class':'text'}).text\n",
    "    d['author'] = quote.find('small', {'class':'author'}).text\n",
    "    d['tags'] = [tag.text for tag in quote.find_all('a', {'class':'tag'})]\n",
    "    i.append(d)\n",
    "    \n",
    "#creating pandas dataframe to be saved in csv file\n",
    "quotes_info = pd.DataFrame(i)\n",
    "print(quotes_info)\n",
    "quotes_info.to_csv('question1.csv')"
   ]
  },
  {
   "cell_type": "code",
   "execution_count": null,
   "metadata": {},
   "outputs": [],
   "source": []
  }
 ],
 "metadata": {
  "kernelspec": {
   "display_name": "Python 3",
   "language": "python",
   "name": "python3"
  },
  "language_info": {
   "codemirror_mode": {
    "name": "ipython",
    "version": 3
   },
   "file_extension": ".py",
   "mimetype": "text/x-python",
   "name": "python",
   "nbconvert_exporter": "python",
   "pygments_lexer": "ipython3",
   "version": "3.7.6"
  }
 },
 "nbformat": 4,
 "nbformat_minor": 4
}
