{
 "cells": [
  {
   "cell_type": "code",
   "execution_count": 1,
   "metadata": {},
   "outputs": [
    {
     "name": "stdout",
     "output_type": "stream",
     "text": [
      "Now scraping: http://quotes.toscrape.com//author/Albert-Einstein\n",
      "Now scraping: http://quotes.toscrape.com//author/J-K-Rowling\n",
      "Now scraping: http://quotes.toscrape.com//author/Albert-Einstein\n",
      "Now scraping: http://quotes.toscrape.com//author/Jane-Austen\n",
      "Now scraping: http://quotes.toscrape.com//author/Marilyn-Monroe\n",
      "Now scraping: http://quotes.toscrape.com//author/Albert-Einstein\n",
      "Now scraping: http://quotes.toscrape.com//author/Andre-Gide\n",
      "Now scraping: http://quotes.toscrape.com//author/Thomas-A-Edison\n",
      "Now scraping: http://quotes.toscrape.com//author/Eleanor-Roosevelt\n",
      "Now scraping: http://quotes.toscrape.com//author/Steve-Martin\n",
      "                 DOB                                                POB\n",
      "0     March 14, 1879                                       Ulm, Germany\n",
      "1      July 31, 1965   Yate, South Gloucestershire, England, The Uni...\n",
      "2     March 14, 1879                                       Ulm, Germany\n",
      "3  December 16, 1775   Steventon Rectory, Hampshire, The United Kingdom\n",
      "4      June 01, 1926                                  The United States\n",
      "5     March 14, 1879                                       Ulm, Germany\n",
      "6  November 22, 1869                                      Paris, France\n",
      "7  February 11, 1847                     Milan, Ohio, The United States\n",
      "8   October 11, 1884                                  The United States\n",
      "9    August 14, 1945                     Waco, Texas, The United States\n"
     ]
    }
   ],
   "source": [
    "#import all required libraries\n",
    "import requests\n",
    "from bs4 import BeautifulSoup\n",
    "import time\n",
    "import pandas as pd\n",
    "import numpy as np\n",
    "\n",
    "#creating necessary variables for eventual for loop\n",
    "result = requests.get('http://quotes.toscrape.com/')\n",
    "page = result.text\n",
    "soup = BeautifulSoup(page, 'html.parser')\n",
    "#find tags\n",
    "quotes = soup.find_all('div', class_= 'quote')\n",
    "\n",
    "#loop for scraping DOB and POB for eventual data frame\n",
    "data = []\n",
    "for tag in quotes:\n",
    "    link = tag.find('a')\n",
    "    full_link = 'http://quotes.toscrape.com/' + link['href']\n",
    "    print('Now scraping:', full_link)\n",
    "    info_page = requests.get(full_link)\n",
    "    info_soup = BeautifulSoup(info_page.content, 'html.parser')\n",
    "    #time.sleep(2)\n",
    "    try:\n",
    "        DOB = info_soup.find('span', class_='author-born-date').get_text()\n",
    "    except:\n",
    "        DOB = ('NA')\n",
    "    try:\n",
    "        POB = info_soup.find('span', class_='author-born-location').get_text().strip('in')\n",
    "    except:\n",
    "        POB = 'NA'\n",
    "    data.append((DOB, POB))\n",
    "    \n",
    "#creating data frame for csv file\n",
    "inform = pd.DataFrame(np.array(data))\n",
    "inform.columns = ['DOB', 'POB']\n",
    "print(inform)\n",
    "inform.to_csv('question2.csv')"
   ]
  }
 ],
 "metadata": {
  "kernelspec": {
   "display_name": "Python 3",
   "language": "python",
   "name": "python3"
  },
  "language_info": {
   "codemirror_mode": {
    "name": "ipython",
    "version": 3
   },
   "file_extension": ".py",
   "mimetype": "text/x-python",
   "name": "python",
   "nbconvert_exporter": "python",
   "pygments_lexer": "ipython3",
   "version": "3.7.6"
  }
 },
 "nbformat": 4,
 "nbformat_minor": 4
}
