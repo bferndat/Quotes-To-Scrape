{
 "cells": [
  {
   "cell_type": "code",
   "execution_count": 29,
   "metadata": {},
   "outputs": [
    {
     "name": "stdout",
     "output_type": "stream",
     "text": [
      "Now scraping: http://quotes.toscrape.com/page/1/\n",
      "Now scraping: http://quotes.toscrape.com/page/2/\n",
      "Now scraping: http://quotes.toscrape.com/page/3/\n",
      "Now scraping: http://quotes.toscrape.com/page/4/\n",
      "Now scraping: http://quotes.toscrape.com/page/5/\n",
      "Now scraping: http://quotes.toscrape.com/page/6/\n",
      "Now scraping: http://quotes.toscrape.com/page/7/\n",
      "Now scraping: http://quotes.toscrape.com/page/8/\n",
      "Now scraping: http://quotes.toscrape.com/page/9/\n",
      "Now scraping: http://quotes.toscrape.com/page/10/\n",
      "                                                quote              author  \\\n",
      "0   “The world as we have created it is a process ...     Albert Einstein   \n",
      "1   “It is our choices, Harry, that show what we t...        J.K. Rowling   \n",
      "2   “There are only two ways to live your life. On...     Albert Einstein   \n",
      "3   “The person, be it gentleman or lady, who has ...         Jane Austen   \n",
      "4   “Imperfection is beauty, madness is genius and...      Marilyn Monroe   \n",
      "..                                                ...                 ...   \n",
      "95  “You never really understand a person until yo...          Harper Lee   \n",
      "96  “You have to write the book that wants to be w...   Madeleine L'Engle   \n",
      "97  “Never tell the truth to people who are not wo...          Mark Twain   \n",
      "98        “A person's a person, no matter how small.”           Dr. Seuss   \n",
      "99  “... a mind needs books as a sword needs a whe...  George R.R. Martin   \n",
      "\n",
      "                                                 tags  \n",
      "0            [change, deep-thoughts, thinking, world]  \n",
      "1                                [abilities, choices]  \n",
      "2      [inspirational, life, live, miracle, miracles]  \n",
      "3                  [aliteracy, books, classic, humor]  \n",
      "4                        [be-yourself, inspirational]  \n",
      "..                                                ...  \n",
      "95                              [better-life-empathy]  \n",
      "96  [books, children, difficult, grown-ups, write,...  \n",
      "97                                            [truth]  \n",
      "98                                    [inspirational]  \n",
      "99                                      [books, mind]  \n",
      "\n",
      "[100 rows x 3 columns]\n"
     ]
    }
   ],
   "source": [
    "import requests\n",
    "from bs4 import BeautifulSoup\n",
    "import time\n",
    "import pandas as pd\n",
    "import numpy as np\n",
    "\n",
    "i= []\n",
    "main_page_list = []\n",
    "\n",
    "for n in range(1, 11):\n",
    "    main_str1 = 'http://quotes.toscrape.com/' + 'page/' + str(n) + '/'\n",
    "    main_page_list.append(main_str1)\n",
    "\n",
    "for link in main_page_list:\n",
    "    main_page = requests.get(link)\n",
    "    soup = BeautifulSoup(main_page.content, 'html.parser')\n",
    "    print('Now scraping:', link)\n",
    "    time.sleep(2)\n",
    "    for quote in soup.find_all('div', {'class':'quote'}):\n",
    "        d = {}\n",
    "        d['quote'] = quote.find('span', {'class':'text'}).text\n",
    "        d['author'] = quote.find('small', {'class':'author'}).text\n",
    "        d['tags'] = [tag.text for tag in quote.find_all('a', {'class':'tag'})]\n",
    "        i.append(d)\n",
    "\n",
    "#creating pandas dataframe to be saved in csv file\n",
    "quotes_info = pd.DataFrame(i)\n",
    "print(quotes_info)\n",
    "quotes_info.to_csv('question3.csv') "
   ]
  }
 ],
 "metadata": {
  "kernelspec": {
   "display_name": "Python 3",
   "language": "python",
   "name": "python3"
  },
  "language_info": {
   "codemirror_mode": {
    "name": "ipython",
    "version": 3
   },
   "file_extension": ".py",
   "mimetype": "text/x-python",
   "name": "python",
   "nbconvert_exporter": "python",
   "pygments_lexer": "ipython3",
   "version": "3.7.6"
  }
 },
 "nbformat": 4,
 "nbformat_minor": 4
}
